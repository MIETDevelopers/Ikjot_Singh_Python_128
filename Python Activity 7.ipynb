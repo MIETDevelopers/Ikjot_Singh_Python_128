{
 "cells": [
  {
   "cell_type": "code",
   "execution_count": 1,
   "id": "d4e0968f",
   "metadata": {},
   "outputs": [
    {
     "name": "stdout",
     "output_type": "stream",
     "text": [
      "Enter 1 for celcius to Fahrenheit\n",
      "Enter 2 for Fahrenheit to celcius\n",
      "input1\n",
      "Enter the temperature  40\n",
      "The fahrenheit equal of celcius  104.0\n"
     ]
    }
   ],
   "source": [
    "def celToFar(temp):\n",
    "    fahrenheit=(temp*1.8)+32\n",
    "    return fahrenheit\n",
    "def FartoCel(temp):\n",
    "    celcius=(5/9)*(temp-32)\n",
    "    return celcius\n",
    "print(\"Enter 1 for celcius to Fahrenheit\")\n",
    "print(\"Enter 2 for Fahrenheit to celcius\")\n",
    "user=int(input(\"input\"))\n",
    "userChoice=int(input(\"Enter the temperature  \"))\n",
    "if user==1:\n",
    "    print(\"The fahrenheit equal of celcius \",celToFar(userChoice))\n",
    "else:\n",
    "    print(\"The celcius equal of fahrenheit \",FartoCel(userChoice))\n",
    "    "
   ]
  }
 ],
 "metadata": {
  "kernelspec": {
   "display_name": "Python 3 (ipykernel)",
   "language": "python",
   "name": "python3"
  },
  "language_info": {
   "codemirror_mode": {
    "name": "ipython",
    "version": 3
   },
   "file_extension": ".py",
   "mimetype": "text/x-python",
   "name": "python",
   "nbconvert_exporter": "python",
   "pygments_lexer": "ipython3",
   "version": "3.9.12"
  }
 },
 "nbformat": 4,
 "nbformat_minor": 5
}
