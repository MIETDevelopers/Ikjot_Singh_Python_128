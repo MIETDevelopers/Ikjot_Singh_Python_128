{
 "cells": [
  {
   "cell_type": "code",
   "execution_count": 3,
   "id": "b0cb8b65",
   "metadata": {},
   "outputs": [
    {
     "name": "stdout",
     "output_type": "stream",
     "text": [
      "The original list is: [[5, 3, 2], [8, 6, 3], [3, 5, 2], [3, 6], [3, 7, 4], [2, 9]]\n",
      "Enter the value of K: 4\n",
      "After reversing every Kth row:[[5, 3, 2], [8, 6, 3], [3, 5, 2], [6, 3], [3, 7, 4], [2, 9]]\n"
     ]
    }
   ],
   "source": [
    "test_list=[[5,3,2],[8,6,3],[3,5,2],[3,6],[3,7,4],[2,9]]\n",
    "print(\"The original list is: \"+str(test_list))\n",
    "K=int(input(\"Enter the value of K: \"))\n",
    "res=[]\n",
    "for idx,ele in enumerate(test_list):\n",
    "    if(idx+1)%K==0:\n",
    "        res.append(list(reversed(ele)))\n",
    "    else:\n",
    "        res.append(ele)\n",
    "print(\"After reversing every Kth row:\"+str(res))"
   ]
  },
  {
   "cell_type": "code",
   "execution_count": 4,
   "id": "847f1bc6",
   "metadata": {},
   "outputs": [
    {
     "name": "stdout",
     "output_type": "stream",
     "text": [
      "The original list is: [[5, 3, 2], [8, 6, 3], [3, 5, 2], [3, 6], [3, 7, 4], [2, 9]]\n",
      "Enter the value of K: 2\n",
      "After reversing every Kth row:[[5, 3, 2], [3, 6, 8], [3, 5, 2], [6, 3], [3, 7, 4], [9, 2]]\n"
     ]
    }
   ],
   "source": [
    "test_list=[[5,3,2],[8,6,3],[3,5,2],[3,6],[3,7,4],[2,9]]\n",
    "print(\"The original list is: \"+str(test_list))\n",
    "K=int(input(\"Enter the value of K: \"))\n",
    "res=[]\n",
    "for idx,ele in enumerate(test_list):\n",
    "    if(idx+1)%K==0:\n",
    "        res.append(list(reversed(ele)))\n",
    "    else:\n",
    "        res.append(ele)\n",
    "print(\"After reversing every Kth row:\"+str(res))\n"
   ]
  },
  {
   "cell_type": "code",
   "execution_count": null,
   "id": "597dae47",
   "metadata": {},
   "outputs": [],
   "source": []
  }
 ],
 "metadata": {
  "kernelspec": {
   "display_name": "Python 3 (ipykernel)",
   "language": "python",
   "name": "python3"
  },
  "language_info": {
   "codemirror_mode": {
    "name": "ipython",
    "version": 3
   },
   "file_extension": ".py",
   "mimetype": "text/x-python",
   "name": "python",
   "nbconvert_exporter": "python",
   "pygments_lexer": "ipython3",
   "version": "3.9.12"
  }
 },
 "nbformat": 4,
 "nbformat_minor": 5
}
