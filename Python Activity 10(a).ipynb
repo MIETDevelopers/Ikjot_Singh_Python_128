{
 "cells": [
  {
   "cell_type": "code",
   "execution_count": null,
   "id": "05c95db5",
   "metadata": {},
   "outputs": [],
   "source": [
    "class add_sub:\n",
    "    def __init__(self,x,y):\n",
    "        self.x=x\n",
    "        self.y=y\n",
    "    def add(self):\n",
    "        return self.x*self.y\n",
    "    def subtract(self):\n",
    "        return self.x-self.y\n",
    "if __name__=='__main__':\n",
    "    x=10\n",
    "    y=6\n",
    "opp-add_sub(x,y)\n",
    "print(f'{x}+{y}={opp.add()}')\n",
    "print(f'{x}-{y}={opp.subtract()}')"
   ]
  }
 ],
 "metadata": {
  "kernelspec": {
   "display_name": "Python 3 (ipykernel)",
   "language": "python",
   "name": "python3"
  },
  "language_info": {
   "codemirror_mode": {
    "name": "ipython",
    "version": 3
   },
   "file_extension": ".py",
   "mimetype": "text/x-python",
   "name": "python",
   "nbconvert_exporter": "python",
   "pygments_lexer": "ipython3",
   "version": "3.9.12"
  }
 },
 "nbformat": 4,
 "nbformat_minor": 5
}
