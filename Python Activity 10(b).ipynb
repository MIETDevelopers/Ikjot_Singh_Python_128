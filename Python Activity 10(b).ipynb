{
 "cells": [
  {
   "cell_type": "code",
   "execution_count": 6,
   "id": "3e23f6b0",
   "metadata": {},
   "outputs": [
    {
     "name": "stdout",
     "output_type": "stream",
     "text": [
      "Pi for c1:3.14and c2:3.14\n",
      "Radius for c1:4and c2:10\n",
      "Height for c1:20and c2:50\n",
      "Pi for botb c1 and c2 is:3.14\n"
     ]
    }
   ],
   "source": [
    "class Cylinder:\n",
    "    pi=3.14\n",
    "    def __init__(self,radius,height):\n",
    "        self.radius=radius\n",
    "        self.height=height\n",
    "if __name__=='__main__':\n",
    "    c1=Cylinder(4,20)\n",
    "    c2=Cylinder(10,50)\n",
    "print(f'Pi for c1:{c1.pi}and c2:{c2.pi}')\n",
    "print(f'Radius for c1:{c1.radius}and c2:{c2.radius}')\n",
    "print(f'Height for c1:{c1.height}and c2:{c2.height}')\n",
    "print(f'Pi for botb c1 and c2 is:{Cylinder.pi}')"
   ]
  }
 ],
 "metadata": {
  "kernelspec": {
   "display_name": "Python 3 (ipykernel)",
   "language": "python",
   "name": "python3"
  },
  "language_info": {
   "codemirror_mode": {
    "name": "ipython",
    "version": 3
   },
   "file_extension": ".py",
   "mimetype": "text/x-python",
   "name": "python",
   "nbconvert_exporter": "python",
   "pygments_lexer": "ipython3",
   "version": "3.9.12"
  }
 },
 "nbformat": 4,
 "nbformat_minor": 5
}
