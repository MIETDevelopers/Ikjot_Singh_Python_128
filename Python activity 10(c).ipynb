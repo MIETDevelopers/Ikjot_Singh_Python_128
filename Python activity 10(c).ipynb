{
 "cells": [
  {
   "cell_type": "code",
   "execution_count": null,
   "id": "435efacf",
   "metadata": {},
   "outputs": [],
   "source": [
    "class Cylinder:\n",
    "    pi=3.14\n",
    "    def __init__(self,radius,height):\n",
    "        self.radius=radius\n",
    "        self.height=height\n",
    "    def volume(self):\n",
    "        return Cylinder.pi*self.radius**2*self.height\n",
    "    @classmethod\n",
    "    def description(cls):\n",
    "        return f'This is a Cuclinder class that computes the volume using Pi={cls.pi}'\n",
    "if __name__=='__main__':\n",
    "    c1=Cylinder(4,2)\n",
    "    print(f'Volume of Cylinder)\n",
    "    \n"
   ]
  }
 ],
 "metadata": {
  "kernelspec": {
   "display_name": "Python 3 (ipykernel)",
   "language": "python",
   "name": "python3"
  },
  "language_info": {
   "codemirror_mode": {
    "name": "ipython",
    "version": 3
   },
   "file_extension": ".py",
   "mimetype": "text/x-python",
   "name": "python",
   "nbconvert_exporter": "python",
   "pygments_lexer": "ipython3",
   "version": "3.9.12"
  }
 },
 "nbformat": 4,
 "nbformat_minor": 5
}
