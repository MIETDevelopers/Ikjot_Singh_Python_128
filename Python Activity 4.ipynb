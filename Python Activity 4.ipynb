{
 "cells": [
  {
   "cell_type": "code",
   "execution_count": 6,
   "id": "eb09d913",
   "metadata": {},
   "outputs": [
    {
     "name": "stdout",
     "output_type": "stream",
     "text": [
      "Enter the value: 10\n",
      "item found at index: 4\n"
     ]
    }
   ],
   "source": [
    "myList=[6,7,8,9,10,11,12]\n",
    "value=input(\"Enter the value: \")\n",
    "value=int(value)\n",
    "for i in range(0,len(myList)):\n",
    "    if myList[i]==value:\n",
    "        print(\"item found at index:\",i)\n",
    "        break\n",
    "if myList[i]!=value:\n",
    "     print(\"Element not present in the list\")\n",
    "       "
   ]
  },
  {
   "cell_type": "code",
   "execution_count": null,
   "id": "ef399857",
   "metadata": {},
   "outputs": [],
   "source": [
    "myList=[1,2,3,4,5,6]\n",
    "start=0\n",
    "end=len(myList)-1\n",
    "x=int(input(\"Enter the value: \"))\n",
    "while start <=end:\n",
    "    mid=start+(end-start)//2\n",
    "    if myList[mi]"
   ]
  }
 ],
 "metadata": {
  "kernelspec": {
   "display_name": "Python 3 (ipykernel)",
   "language": "python",
   "name": "python3"
  },
  "language_info": {
   "codemirror_mode": {
    "name": "ipython",
    "version": 3
   },
   "file_extension": ".py",
   "mimetype": "text/x-python",
   "name": "python",
   "nbconvert_exporter": "python",
   "pygments_lexer": "ipython3",
   "version": "3.9.12"
  }
 },
 "nbformat": 4,
 "nbformat_minor": 5
}
